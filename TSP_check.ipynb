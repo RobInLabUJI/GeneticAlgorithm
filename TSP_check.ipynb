{
  "cells": [
    {
      "cell_type": "markdown",
      "metadata": {
        "id": "view-in-github",
        "colab_type": "text"
      },
      "source": [
        "<a href=\"https://colab.research.google.com/github/RobInLabUJI/GeneticAlgorithm/blob/main/TSP_check.ipynb\" target=\"_parent\"><img src=\"https://colab.research.google.com/assets/colab-badge.svg\" alt=\"Open In Colab\"/></a>"
      ]
    },
    {
      "cell_type": "code",
      "source": [
        "!git clone https://github.com/RobInLabUJI/Pyevolve"
      ],
      "metadata": {
        "id": "0gNpdG0jsu-p"
      },
      "execution_count": null,
      "outputs": []
    },
    {
      "cell_type": "code",
      "source": [
        "import sys\n",
        "sys.path.append('/content/Pyevolve')"
      ],
      "metadata": {
        "id": "lHKpJ98Dsyvk"
      },
      "execution_count": null,
      "outputs": []
    },
    {
      "cell_type": "code",
      "source": [
        "!wget https://github.com/RobInLabUJI/GeneticAlgorithm/raw/main/pyevolve_plot.py"
      ],
      "metadata": {
        "id": "EZod-syes1fn"
      },
      "execution_count": null,
      "outputs": []
    },
    {
      "cell_type": "markdown",
      "metadata": {
        "id": "rYajlOLustIY"
      },
      "source": [
        "# The Travelling Salesperson Problem\n",
        "\n",
        "## Plots\n",
        "\n",
        "Plot the following graphs of the evolution process:\n",
        "* Error bars graph (raw scores).\n",
        "* Error bars graph (fitness scores).\n",
        "* Max/min/avg/std. dev. graph (raw scores).\n",
        "* Max/min/avg/std. dev. graph (fitness scores).\n",
        "* Raw and Fitness min/max difference graph."
      ]
    },
    {
      "cell_type": "code",
      "execution_count": null,
      "metadata": {
        "id": "46cn-KgtstIb"
      },
      "outputs": [],
      "source": [
        "%matplotlib inline\n",
        "from pyevolve_plot import plot_errorbars_raw, plot_errorbars_fitness, \\\n",
        "                          plot_maxmin_raw, plot_maxmin_fitness, \\\n",
        "                          plot_diff_raw, plot_pop_heatmap_raw"
      ]
    },
    {
      "cell_type": "code",
      "execution_count": null,
      "metadata": {
        "id": "SoTv3qY1stIc"
      },
      "outputs": [],
      "source": [
        "plot_errorbars_raw('tsp.db','ex1')"
      ]
    },
    {
      "cell_type": "code",
      "execution_count": null,
      "metadata": {
        "id": "rKPwQIoXstId"
      },
      "outputs": [],
      "source": [
        "plot_errorbars_fitness('tsp.db','ex1')"
      ]
    },
    {
      "cell_type": "code",
      "execution_count": null,
      "metadata": {
        "id": "EPNgvPLpstId"
      },
      "outputs": [],
      "source": [
        "plot_maxmin_raw('tsp.db','ex1')"
      ]
    },
    {
      "cell_type": "code",
      "execution_count": null,
      "metadata": {
        "id": "v3G5zZqsstId"
      },
      "outputs": [],
      "source": [
        "plot_maxmin_fitness('tsp.db','ex1')"
      ]
    },
    {
      "cell_type": "code",
      "execution_count": null,
      "metadata": {
        "id": "pmxbvPS8stIe"
      },
      "outputs": [],
      "source": [
        "plot_diff_raw('tsp.db','ex1')"
      ]
    },
    {
      "cell_type": "markdown",
      "metadata": {
        "id": "eOARldpRstIe"
      },
      "source": [
        "## Route images\n",
        "\n",
        "Plot the images of the routes stored in the 'tspimg' folder."
      ]
    },
    {
      "cell_type": "code",
      "execution_count": null,
      "metadata": {
        "id": "Eku8gRGIstIe"
      },
      "outputs": [],
      "source": [
        "import matplotlib.pyplot as plt\n",
        "from PIL import Image"
      ]
    },
    {
      "cell_type": "code",
      "execution_count": null,
      "metadata": {
        "id": "tImwzaPxstIf"
      },
      "outputs": [],
      "source": [
        "import glob\n",
        "images = glob.glob(\"tspimg/tsp_result_*.png\")"
      ]
    },
    {
      "cell_type": "code",
      "execution_count": null,
      "metadata": {
        "id": "TU-3-OYlstIf"
      },
      "outputs": [],
      "source": [
        "for im in images:\n",
        "    tsp_result = Image.open(im)\n",
        "    print(\"Generation %d\" % int(im[18:-4]))\n",
        "    plt.imshow(tsp_result)\n",
        "    plt.show()"
      ]
    },
    {
      "cell_type": "code",
      "execution_count": null,
      "metadata": {
        "id": "_aCWBfQystIf"
      },
      "outputs": [],
      "source": [
        "print('Final best individual')\n",
        "tsp_result = Image.open('tspimg/tsp_result.png')\n",
        "plt.imshow(tsp_result);"
      ]
    },
    {
      "cell_type": "code",
      "execution_count": null,
      "metadata": {
        "id": "HqnhAAicstIg"
      },
      "outputs": [],
      "source": []
    }
  ],
  "metadata": {
    "anaconda-cloud": {},
    "kernelspec": {
      "display_name": "Python 3",
      "language": "python",
      "name": "python3"
    },
    "language_info": {
      "codemirror_mode": {
        "name": "ipython",
        "version": 3
      },
      "file_extension": ".py",
      "mimetype": "text/x-python",
      "name": "python",
      "nbconvert_exporter": "python",
      "pygments_lexer": "ipython3",
      "version": "3.8.10"
    },
    "colab": {
      "provenance": [],
      "include_colab_link": true
    }
  },
  "nbformat": 4,
  "nbformat_minor": 0
}
