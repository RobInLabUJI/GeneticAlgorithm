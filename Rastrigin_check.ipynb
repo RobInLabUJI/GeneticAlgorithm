{
  "cells": [
    {
      "cell_type": "markdown",
      "metadata": {
        "id": "view-in-github",
        "colab_type": "text"
      },
      "source": [
        "<a href=\"https://colab.research.google.com/github/RobInLabUJI/GeneticAlgorithm/blob/main/Rastrigin_check.ipynb\" target=\"_parent\"><img src=\"https://colab.research.google.com/assets/colab-badge.svg\" alt=\"Open In Colab\"/></a>"
      ]
    },
    {
      "cell_type": "code",
      "source": [
        "!git clone https://github.com/ecervera/Pyevolve"
      ],
      "metadata": {
        "id": "rRfq5b24pW4D"
      },
      "execution_count": null,
      "outputs": []
    },
    {
      "cell_type": "code",
      "source": [
        "import sys\n",
        "sys.path.append('/content/Pyevolve')"
      ],
      "metadata": {
        "id": "InJemJYfpcRU"
      },
      "execution_count": null,
      "outputs": []
    },
    {
      "cell_type": "code",
      "source": [
        "!wget https://github.com/RobInLabUJI/GeneticAlgorithm/raw/main/pyevolve_plot.py"
      ],
      "metadata": {
        "id": "tRXiXSsipeMm"
      },
      "execution_count": null,
      "outputs": []
    },
    {
      "cell_type": "markdown",
      "metadata": {
        "id": "O0PgZ0I5pUlw"
      },
      "source": [
        "# The Rastrigin function: plotting results\n",
        "\n",
        "We are going to make the following plots for the results of the evolution stored in the database:\n",
        "* Error bars graph (raw scores).\n",
        "* Error bars graph (fitness scores).\n",
        "* Max/min/avg/std. dev. graph (raw scores).\n",
        "* Max/min/avg/std. dev. graph (fitness scores).\n",
        "* Raw and Fitness min/max difference graph.\n",
        "* Heat map of population raw score distribution."
      ]
    },
    {
      "cell_type": "code",
      "execution_count": null,
      "metadata": {
        "collapsed": true,
        "id": "8cdukAadpUl1"
      },
      "outputs": [],
      "source": [
        "%matplotlib inline\n",
        "from pyevolve_plot import plot_errorbars_raw, plot_errorbars_fitness, \\\n",
        "                          plot_maxmin_raw, plot_maxmin_fitness, \\\n",
        "                          plot_diff_raw, plot_pop_heatmap_raw"
      ]
    },
    {
      "cell_type": "code",
      "execution_count": null,
      "metadata": {
        "id": "qgHsNddWpUl3"
      },
      "outputs": [],
      "source": [
        "plot_errorbars_raw('rastrigin.db','ex1')"
      ]
    },
    {
      "cell_type": "code",
      "execution_count": null,
      "metadata": {
        "id": "MjHvPbg0pUl4"
      },
      "outputs": [],
      "source": [
        "plot_errorbars_fitness('rastrigin.db','ex1')"
      ]
    },
    {
      "cell_type": "code",
      "execution_count": null,
      "metadata": {
        "id": "KTZdvXEdpUl5"
      },
      "outputs": [],
      "source": [
        "plot_maxmin_raw('rastrigin.db','ex1')"
      ]
    },
    {
      "cell_type": "code",
      "execution_count": null,
      "metadata": {
        "id": "0DRuLjJ4pUl5"
      },
      "outputs": [],
      "source": [
        "plot_maxmin_raw('rastrigin.db','ex1')"
      ]
    },
    {
      "cell_type": "code",
      "execution_count": null,
      "metadata": {
        "id": "HWbhB1AcpUl6"
      },
      "outputs": [],
      "source": [
        "plot_diff_raw('rastrigin.db','ex1')"
      ]
    },
    {
      "cell_type": "code",
      "execution_count": null,
      "metadata": {
        "id": "prr-czzwpUl6"
      },
      "outputs": [],
      "source": [
        "plot_pop_heatmap_raw('rastrigin.db','ex1')"
      ]
    },
    {
      "cell_type": "code",
      "execution_count": null,
      "metadata": {
        "collapsed": true,
        "id": "43m7U3UPpUl7"
      },
      "outputs": [],
      "source": []
    }
  ],
  "metadata": {
    "kernelspec": {
      "display_name": "Python 3",
      "language": "python",
      "name": "python3"
    },
    "language_info": {
      "codemirror_mode": {
        "name": "ipython",
        "version": 3
      },
      "file_extension": ".py",
      "mimetype": "text/x-python",
      "name": "python",
      "nbconvert_exporter": "python",
      "pygments_lexer": "ipython3",
      "version": "3.8.10"
    },
    "colab": {
      "provenance": [],
      "include_colab_link": true
    }
  },
  "nbformat": 4,
  "nbformat_minor": 0
}